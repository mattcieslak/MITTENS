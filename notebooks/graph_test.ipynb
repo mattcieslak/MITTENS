{
 "cells": [
  {
   "cell_type": "markdown",
   "metadata": {},
   "source": [
    "# Tour of MITTENS features\n",
    "\n",
    "Here we download a ground-truth FOD dataset (in DSI Studio format) that was created from the ISMRM 2015 tractometer streamline set. This is the best-possible scenario where FODs are directly from fibers, not from a reconstruction.\n",
    "\n",
    "We also download an atlas and a seed region to build connectivity matrices and run shortest-path tractography."
   ]
  },
  {
   "cell_type": "code",
   "execution_count": 1,
   "metadata": {},
   "outputs": [
    {
     "data": {
      "text/html": [
       "\n",
       "\t\t\t<script type=\"text/javascript\">\n",
       "\t\t\t<!--\n",
       "\t\t\t\t\n",
       "\t\t\t{\n",
       "\t\t\t\tvar element = document.getElementById('NetworKit_script');\n",
       "\t\t\t\tif (element) {\n",
       "\t\t\t\t\telement.parentNode.removeChild(element);\n",
       "\t\t\t\t}\n",
       "\t\t\t\telement = document.createElement('script');\n",
       "\t\t\t\telement.type = 'text/javascript';\n",
       "\t\t\t\telement.innerHTML = 'function NetworKit_pageEmbed(id) { var i, j; var elements; elements = document.getElementById(id).getElementsByClassName(\"Plot\"); for (i=0; i<elements.length; i++) { elements[i].id = id + \"_Plot_\" + i; var data = elements[i].getAttribute(\"data-image\").split(\"|\"); elements[i].removeAttribute(\"data-image\"); var content = \"<div class=\\\\\"Image\\\\\" id=\\\\\"\" + elements[i].id + \"_Image\\\\\" />\"; elements[i].innerHTML = content; elements[i].setAttribute(\"data-image-index\", 0); elements[i].setAttribute(\"data-image-length\", data.length); for (j=0; j<data.length; j++) { elements[i].setAttribute(\"data-image-\" + j, data[j]); } NetworKit_plotUpdate(elements[i]); elements[i].onclick = function (e) { NetworKit_overlayShow((e.target) ? e.target : e.srcElement); } } elements = document.getElementById(id).getElementsByClassName(\"HeatCell\"); for (i=0; i<elements.length; i++) { var data = parseFloat(elements[i].getAttribute(\"data-heat\")); var color = \"#00FF00\"; if (data <= 1 && data > 0) { color = \"hsla(0, 100%, 75%, \" + (data) + \")\"; } else if (data <= 0 && data >= -1) { color = \"hsla(240, 100%, 75%, \" + (-data) + \")\"; } elements[i].style.backgroundColor = color; } elements = document.getElementById(id).getElementsByClassName(\"Details\"); for (i=0; i<elements.length; i++) { elements[i].setAttribute(\"data-title\", \"-\"); NetworKit_toggleDetails(elements[i]); elements[i].onclick = function (e) { NetworKit_toggleDetails((e.target) ? e.target : e.srcElement); } } elements = document.getElementById(id).getElementsByClassName(\"MathValue\"); for (i=elements.length-1; i>=0; i--) { value = elements[i].innerHTML.trim(); if (value === \"nan\") { elements[i].parentNode.innerHTML = \"\" } } elements = document.getElementById(id).getElementsByClassName(\"SubCategory\"); for (i=elements.length-1; i>=0; i--) { value = elements[i].innerHTML.trim(); if (value === \"\") { elements[i].parentNode.removeChild(elements[i]) } } elements = document.getElementById(id).getElementsByClassName(\"Category\"); for (i=elements.length-1; i>=0; i--) { value = elements[i].innerHTML.trim(); if (value === \"\") { elements[i].parentNode.removeChild(elements[i]) } } var isFirefox = false; try { isFirefox = typeof InstallTrigger !== \"undefined\"; } catch (e) {} if (!isFirefox) { alert(\"Currently the function\\'s output is only fully supported by Firefox.\"); } } function NetworKit_plotUpdate(source) { var index = source.getAttribute(\"data-image-index\"); var data = source.getAttribute(\"data-image-\" + index); var image = document.getElementById(source.id + \"_Image\"); image.style.backgroundImage = \"url(\" + data + \")\"; } function NetworKit_showElement(id, show) { var element = document.getElementById(id); element.style.display = (show) ? \"block\" : \"none\"; } function NetworKit_overlayShow(source) { NetworKit_overlayUpdate(source); NetworKit_showElement(\"NetworKit_Overlay\", true); } function NetworKit_overlayUpdate(source) { document.getElementById(\"NetworKit_Overlay_Title\").innerHTML = source.title; var index = source.getAttribute(\"data-image-index\"); var data = source.getAttribute(\"data-image-\" + index); var image = document.getElementById(\"NetworKit_Overlay_Image\"); image.setAttribute(\"data-id\", source.id); image.style.backgroundImage = \"url(\" + data + \")\"; var link = document.getElementById(\"NetworKit_Overlay_Toolbar_Bottom_Save\"); link.href = data; link.download = source.title + \".svg\"; } function NetworKit_overlayImageShift(delta) { var image = document.getElementById(\"NetworKit_Overlay_Image\"); var source = document.getElementById(image.getAttribute(\"data-id\")); var index = parseInt(source.getAttribute(\"data-image-index\")); var length = parseInt(source.getAttribute(\"data-image-length\")); var index = (index+delta) % length; if (index < 0) { index = length + index; } source.setAttribute(\"data-image-index\", index); NetworKit_overlayUpdate(source); } function NetworKit_toggleDetails(source) { var childs = source.children; var show = false; if (source.getAttribute(\"data-title\") == \"-\") { source.setAttribute(\"data-title\", \"+\"); show = false; } else { source.setAttribute(\"data-title\", \"-\"); show = true; } for (i=0; i<childs.length; i++) { if (show) { childs[i].style.display = \"block\"; } else { childs[i].style.display = \"none\"; } } }';\n",
       "\t\t\t\telement.setAttribute('id', 'NetworKit_script');\n",
       "\t\t\t\tdocument.head.appendChild(element);\n",
       "\t\t\t}\n",
       "\t\t\n",
       "\t\t\t\t\n",
       "\t\t\t{\n",
       "\t\t\t\tvar element = document.getElementById('NetworKit_style');\n",
       "\t\t\t\tif (element) {\n",
       "\t\t\t\t\telement.parentNode.removeChild(element);\n",
       "\t\t\t\t}\n",
       "\t\t\t\telement = document.createElement('style');\n",
       "\t\t\t\telement.type = 'text/css';\n",
       "\t\t\t\telement.innerHTML = '.NetworKit_Page { font-family: Arial, Helvetica, sans-serif; font-size: 14px; } .NetworKit_Page .Value:before { font-family: Arial, Helvetica, sans-serif; font-size: 1.05em; content: attr(data-title) \":\"; margin-left: -2.5em; padding-right: 0.5em; } .NetworKit_Page .Details .Value:before { display: block; } .NetworKit_Page .Value { font-family: monospace; white-space: pre; padding-left: 2.5em; white-space: -moz-pre-wrap !important; white-space: -pre-wrap; white-space: -o-pre-wrap; white-space: pre-wrap; word-wrap: break-word; tab-size: 4; -moz-tab-size: 4; } .NetworKit_Page .Category { clear: both; padding-left: 1em; margin-bottom: 1.5em; } .NetworKit_Page .Category:before { content: attr(data-title); font-size: 1.75em; display: block; margin-left: -0.8em; margin-bottom: 0.5em; } .NetworKit_Page .SubCategory { margin-bottom: 1.5em; padding-left: 1em; } .NetworKit_Page .SubCategory:before { font-size: 1.6em; display: block; margin-left: -0.8em; margin-bottom: 0.5em; } .NetworKit_Page .SubCategory[data-title]:before { content: attr(data-title); } .NetworKit_Page .Block { display: block; } .NetworKit_Page .Block:after { content: \".\"; visibility: hidden; display: block; height: 0; clear: both; } .NetworKit_Page .Block .Thumbnail_Overview, .NetworKit_Page .Block .Thumbnail_ScatterPlot { width: 260px; float: left; } .NetworKit_Page .Block .Thumbnail_Overview img, .NetworKit_Page .Block .Thumbnail_ScatterPlot img { width: 260px; } .NetworKit_Page .Block .Thumbnail_Overview:before, .NetworKit_Page .Block .Thumbnail_ScatterPlot:before { display: block; text-align: center; font-weight: bold; } .NetworKit_Page .Block .Thumbnail_Overview:before { content: attr(data-title); } .NetworKit_Page .HeatCell { font-family: \"Courier New\", Courier, monospace; cursor: pointer; } .NetworKit_Page .HeatCell, .NetworKit_Page .HeatCellName { display: inline; padding: 0.1em; margin-right: 2px; background-color: #FFFFFF } .NetworKit_Page .HeatCellName { margin-left: 0.25em; } .NetworKit_Page .HeatCell:before { content: attr(data-heat); display: inline-block; color: #000000; width: 4em; text-align: center; } .NetworKit_Page .Measure { clear: both; } .NetworKit_Page .Measure .Details { cursor: pointer; } .NetworKit_Page .Measure .Details:before { content: \"[\" attr(data-title) \"]\"; display: block; } .NetworKit_Page .Measure .Details .Value { border-left: 1px dotted black; margin-left: 0.4em; padding-left: 3.5em; pointer-events: none; } .NetworKit_Page .Measure .Details .Spacer:before { content: \".\"; opacity: 0.0; pointer-events: none; } .NetworKit_Page .Measure .Plot { width: 440px; height: 440px; cursor: pointer; float: left; margin-left: -0.9em; margin-right: 20px; } .NetworKit_Page .Measure .Plot .Image { background-repeat: no-repeat; background-position: center center; background-size: contain; height: 100%; pointer-events: none; } .NetworKit_Page .Measure .Stat { width: 500px; float: left; } .NetworKit_Page .Measure .Stat .Group { padding-left: 1.25em; margin-bottom: 0.75em; } .NetworKit_Page .Measure .Stat .Group .Title { font-size: 1.1em; display: block; margin-bottom: 0.3em; margin-left: -0.75em; border-right-style: dotted; border-right-width: 1px; border-bottom-style: dotted; border-bottom-width: 1px; background-color: #D0D0D0; padding-left: 0.2em; } .NetworKit_Page .Measure .Stat .Group .List { -webkit-column-count: 3; -moz-column-count: 3; column-count: 3; } .NetworKit_Page .Measure .Stat .Group .List .Entry { position: relative; line-height: 1.75em; } .NetworKit_Page .Measure .Stat .Group .List .Entry[data-tooltip]:before { position: absolute; left: 0; top: -40px; background-color: #808080; color: #ffffff; height: 30px; line-height: 30px; border-radius: 5px; padding: 0 15px; content: attr(data-tooltip); white-space: nowrap; display: none; } .NetworKit_Page .Measure .Stat .Group .List .Entry[data-tooltip]:after { position: absolute; left: 15px; top: -10px; border-top: 7px solid #808080; border-left: 7px solid transparent; border-right: 7px solid transparent; content: \"\"; display: none; } .NetworKit_Page .Measure .Stat .Group .List .Entry[data-tooltip]:hover:after, .NetworKit_Page .Measure .Stat .Group .List .Entry[data-tooltip]:hover:before { display: block; } .NetworKit_Page .Measure .Stat .Group .List .Entry .MathValue { font-family: \"Courier New\", Courier, monospace; } .NetworKit_Page .Measure:after { content: \".\"; visibility: hidden; display: block; height: 0; clear: both; } .NetworKit_Page .PartitionPie { clear: both; } .NetworKit_Page .PartitionPie img { width: 600px; } #NetworKit_Overlay { left: 0px; top: 0px; display: none; position: absolute; width: 100%; height: 100%; background-color: rgba(0,0,0,0.6); z-index: 1000; } #NetworKit_Overlay_Title { position: absolute; color: white; transform: rotate(-90deg); width: 32em; height: 32em; padding-right: 0.5em; padding-top: 0.5em; text-align: right; font-size: 40px; } #NetworKit_Overlay .button { background: white; cursor: pointer; } #NetworKit_Overlay .button:before { size: 13px; display: inline-block; text-align: center; margin-top: 0.5em; margin-bottom: 0.5em; width: 1.5em; height: 1.5em; } #NetworKit_Overlay .icon-close:before { content: \"X\"; } #NetworKit_Overlay .icon-previous:before { content: \"P\"; } #NetworKit_Overlay .icon-next:before { content: \"N\"; } #NetworKit_Overlay .icon-save:before { content: \"S\"; } #NetworKit_Overlay_Toolbar_Top, #NetworKit_Overlay_Toolbar_Bottom { position: absolute; width: 40px; right: 13px; text-align: right; z-index: 1100; } #NetworKit_Overlay_Toolbar_Top { top: 0.5em; } #NetworKit_Overlay_Toolbar_Bottom { Bottom: 0.5em; } #NetworKit_Overlay_ImageContainer { position: absolute; top: 5%; left: 5%; height: 90%; width: 90%; background-repeat: no-repeat; background-position: center center; background-size: contain; } #NetworKit_Overlay_Image { height: 100%; width: 100%; background-repeat: no-repeat; background-position: center center; background-size: contain; }';\n",
       "\t\t\t\telement.setAttribute('id', 'NetworKit_style');\n",
       "\t\t\t\tdocument.head.appendChild(element);\n",
       "\t\t\t}\n",
       "\t\t\n",
       "\t\t\t\t\n",
       "\t\t\t{\n",
       "\t\t\t\tvar element = document.getElementById('NetworKit_Overlay');\n",
       "\t\t\t\tif (element) {\n",
       "\t\t\t\t\telement.parentNode.removeChild(element);\n",
       "\t\t\t\t}\n",
       "\t\t\t\telement = document.createElement('div');\n",
       "\t\t\t\telement.innerHTML = '<div id=\"NetworKit_Overlay_Toolbar_Top\"><div class=\"button icon-close\" id=\"NetworKit_Overlay_Close\" /></div><div id=\"NetworKit_Overlay_Title\" /> <div id=\"NetworKit_Overlay_ImageContainer\"> <div id=\"NetworKit_Overlay_Image\" /> </div> <div id=\"NetworKit_Overlay_Toolbar_Bottom\"> <div class=\"button icon-previous\" onclick=\"NetworKit_overlayImageShift(-1)\" /> <div class=\"button icon-next\" onclick=\"NetworKit_overlayImageShift(1)\" /> <a id=\"NetworKit_Overlay_Toolbar_Bottom_Save\"><div class=\"button icon-save\" /></a> </div>';\n",
       "\t\t\t\telement.setAttribute('id', 'NetworKit_Overlay');\n",
       "\t\t\t\tdocument.body.appendChild(element);\n",
       "\t\t\t\tdocument.getElementById('NetworKit_Overlay_Close').onclick = function (e) {\n",
       "\t\t\t\t\tdocument.getElementById('NetworKit_Overlay').style.display = 'none';\n",
       "\t\t\t\t}\n",
       "\t\t\t}\n",
       "\t\t\n",
       "\t\t\t-->\n",
       "\t\t\t</script>\n",
       "\t\t"
      ]
     },
     "metadata": {},
     "output_type": "display_data"
    },
    {
     "name": "stderr",
     "output_type": "stream",
     "text": [
      "INFO:mittens._mittens:\n",
      "Using\n",
      "------\n",
      "  Step Size:\t\t0.8660 Voxels \n",
      "  ODF Resolution:\todf8\n",
      "  Max Angle:\t\t35.00 Degrees\n",
      "  Angle Weights:\tflat\n",
      "  Angle weight power:\t1.0\n",
      "INFO:mittens.external.dsi_studio:Loading DSI Studio ODF data\n",
      "WARNING:mittens.external.dsi_studio:Unable to load real affine image \n",
      "INFO:mittens._mittens:Loaded ODF data: (69248, 321)\n",
      "INFO:mittens._mittens:Assuming ODF vertices are LPS+\n",
      "INFO:mittens._mittens:Assuming ODF vertices are LPS+\n"
     ]
    }
   ],
   "source": [
    "# Only necessary on mac os 10.14+\n",
    "import os\n",
    "os.environ['KMP_DUPLICATE_LIB_OK']='TRUE'\n",
    "\n",
    "# Remove data from previous runs\n",
    "import glob\n",
    "for f in glob.glob(\"*.nii*\") + glob.glob(\"*.fib*\") + glob.glob(\"*.mat\"):\n",
    "    os.remove(f)\n",
    "\n",
    "# Download testing data\n",
    "from urllib.request import urlretrieve\n",
    "urlretrieve(\n",
    "    \"https://upenn.box.com/shared/static/4t9x64evipkxaieq6fzy5fzjymcb3ont.gz\", \n",
    "    \"TOD_2mm.fib.gz\")\n",
    "urlretrieve(\n",
    "    \"https://upenn.box.com/shared/static/n3vv3ob7oeyq8nt2fuzilla07wca1h07.gz\", \n",
    "    \"endpoint_atlas_min_500.nii.gz\")\n",
    "urlretrieve(\n",
    "    \"https://upenn.box.com/shared/static/o4134g0o18ndhyp69ofmz2zoavdyvztg.gz\", \n",
    "    \"cst_seed.nii.gz\")\n",
    "\n",
    "\n",
    "from mittens import MITTENS\n",
    "mitn = MITTENS(reconstruction=\"TOD_2mm.fib.gz\")"
   ]
  },
  {
   "cell_type": "markdown",
   "metadata": {},
   "source": [
    "### Calculating transition probabilities\n",
    "\n",
    "We see in the output above that the default parameters of $\\theta_{max}=35$ degrees and $s=\\sqrt{3}/2$ voxels will be used for calculating transition probabilities. Now we actually calculate the probabilities and save them in NIfTI format."
   ]
  },
  {
   "cell_type": "code",
   "execution_count": 2,
   "metadata": {},
   "outputs": [
    {
     "name": "stderr",
     "output_type": "stream",
     "text": [
      "INFO:mittens._mittens:ODF 0/69248\n",
      "INFO:mittens._mittens:ODF 10000/69248\n",
      "INFO:mittens._mittens:ODF 20000/69248\n",
      "INFO:mittens._mittens:ODF 30000/69248\n",
      "INFO:mittens._mittens:ODF 40000/69248\n",
      "INFO:mittens._mittens:ODF 50000/69248\n",
      "INFO:mittens._mittens:ODF 60000/69248\n",
      "INFO:mittens._mittens:Calculating None-Ahead CoDI\n",
      "INFO:mittens._mittens:Calculating Order1 KL Distance\n",
      "INFO:mittens._mittens:Writing singleODF results\n",
      "INFO:mittens._mittens:Writing TOD_2mm_singleODF_a_prob.nii.gz\n",
      "INFO:mittens._mittens:Writing TOD_2mm_singleODF_ai_prob.nii.gz\n",
      "INFO:mittens._mittens:Writing TOD_2mm_singleODF_as_prob.nii.gz\n",
      "INFO:mittens._mittens:Writing TOD_2mm_singleODF_i_prob.nii.gz\n",
      "INFO:mittens._mittens:Writing TOD_2mm_singleODF_l_prob.nii.gz\n",
      "INFO:mittens._mittens:Writing TOD_2mm_singleODF_la_prob.nii.gz\n",
      "INFO:mittens._mittens:Writing TOD_2mm_singleODF_lai_prob.nii.gz\n",
      "INFO:mittens._mittens:Writing TOD_2mm_singleODF_las_prob.nii.gz\n",
      "INFO:mittens._mittens:Writing TOD_2mm_singleODF_li_prob.nii.gz\n",
      "INFO:mittens._mittens:Writing TOD_2mm_singleODF_lp_prob.nii.gz\n",
      "INFO:mittens._mittens:Writing TOD_2mm_singleODF_lpi_prob.nii.gz\n",
      "INFO:mittens._mittens:Writing TOD_2mm_singleODF_lps_prob.nii.gz\n",
      "INFO:mittens._mittens:Writing TOD_2mm_singleODF_ls_prob.nii.gz\n",
      "INFO:mittens._mittens:Writing TOD_2mm_singleODF_p_prob.nii.gz\n",
      "INFO:mittens._mittens:Writing TOD_2mm_singleODF_pi_prob.nii.gz\n",
      "INFO:mittens._mittens:Writing TOD_2mm_singleODF_ps_prob.nii.gz\n",
      "INFO:mittens._mittens:Writing TOD_2mm_singleODF_r_prob.nii.gz\n",
      "INFO:mittens._mittens:Writing TOD_2mm_singleODF_ra_prob.nii.gz\n",
      "INFO:mittens._mittens:Writing TOD_2mm_singleODF_rai_prob.nii.gz\n",
      "INFO:mittens._mittens:Writing TOD_2mm_singleODF_ras_prob.nii.gz\n",
      "INFO:mittens._mittens:Writing TOD_2mm_singleODF_ri_prob.nii.gz\n",
      "INFO:mittens._mittens:Writing TOD_2mm_singleODF_rp_prob.nii.gz\n",
      "INFO:mittens._mittens:Writing TOD_2mm_singleODF_rpi_prob.nii.gz\n",
      "INFO:mittens._mittens:Writing TOD_2mm_singleODF_rps_prob.nii.gz\n",
      "INFO:mittens._mittens:Writing TOD_2mm_singleODF_rs_prob.nii.gz\n",
      "INFO:mittens._mittens:Writing TOD_2mm_singleODF_s_prob.nii.gz\n",
      "INFO:mittens._mittens:Pre-computing neighbor angle weights\n",
      "INFO:mittens._mittens:ODF 0/69248\n",
      "INFO:mittens._mittens:ODF 10000/69248\n",
      "INFO:mittens._mittens:ODF 20000/69248\n",
      "INFO:mittens._mittens:ODF 30000/69248\n",
      "INFO:mittens._mittens:ODF 40000/69248\n",
      "INFO:mittens._mittens:ODF 50000/69248\n",
      "INFO:mittens._mittens:ODF 60000/69248\n",
      "/Users/mcieslak/projects/MITTENS/mittens/_mittens.py:406: RuntimeWarning: divide by zero encountered in true_divide\n",
      "  self.doubleODF_results = outputs / np.nansum(outputs, 1)[:,np.newaxis]\n",
      "/Users/mcieslak/projects/MITTENS/mittens/_mittens.py:406: RuntimeWarning: invalid value encountered in true_divide\n",
      "  self.doubleODF_results = outputs / np.nansum(outputs, 1)[:,np.newaxis]\n",
      "INFO:mittens._mittens:Calculating Double ODF CoDI\n",
      "INFO:mittens._mittens:Calculating CoAsy\n"
     ]
    }
   ],
   "source": [
    "import os\n",
    "#os.makedirs(\"101915/data/mittens_output\")\n",
    "mitn.calculate_transition_probabilities(output_prefix=\"TOD_2mm\")"
   ]
  },
  {
   "cell_type": "markdown",
   "metadata": {},
   "source": [
    "This writes out NIfTI images for the transition probabilities to each neighbor using both the singleODF and doubleODF methods. Additionally, you will find volumes written out for CoDI and CoAsy. Writing to NIfTI is useful to quickly assess the quality of the output. the CoDI volumes should look a lot like GFA or FA images.\n",
    "\n",
    "One can load theses images directly to create a ``MITTENS`` object. This bypasses the need to re-calculate transition probabilities and is the recommended way to access transition probabilities before building and saving Voxel Graphs. \n",
    "\n",
    "### Loading from NIfTI outputs\n",
    "\n",
    "Here we demonstrate loading transition probabilites from NIfTI files. We verify that their contents are identical to those generated by calculating transition probabilities from a ``fib.gz`` file.\n",
    "\n"
   ]
  },
  {
   "cell_type": "code",
   "execution_count": 3,
   "metadata": {},
   "outputs": [
    {
     "name": "stderr",
     "output_type": "stream",
     "text": [
      "INFO:mittens._mittens:\n",
      "Using\n",
      "------\n",
      "  Step Size:\t\t0.8660 Voxels \n",
      "  ODF Resolution:\todf8\n",
      "  Max Angle:\t\t35.00 Degrees\n",
      "  Angle Weights:\tflat\n",
      "  Angle weight power:\t1.0\n",
      "INFO:mittens.spatial:Loading NIfTI Image TOD_2mm_mask.nii.gz\n",
      "INFO:mittens._mittens:Used  to mask from 411516 to 69248 voxels\n",
      "INFO:mittens._mittens:Loading singleODF results\n",
      "INFO:mittens._mittens:Loading NIfTI Image TOD_2mm_singleODF_a_prob.nii.gz\n",
      "INFO:mittens.spatial:Loading NIfTI Image TOD_2mm_singleODF_a_prob.nii.gz\n",
      "INFO:mittens._mittens:Loading NIfTI Image TOD_2mm_singleODF_ai_prob.nii.gz\n",
      "INFO:mittens.spatial:Loading NIfTI Image TOD_2mm_singleODF_ai_prob.nii.gz\n",
      "INFO:mittens._mittens:Loading NIfTI Image TOD_2mm_singleODF_as_prob.nii.gz\n",
      "INFO:mittens.spatial:Loading NIfTI Image TOD_2mm_singleODF_as_prob.nii.gz\n",
      "INFO:mittens._mittens:Loading NIfTI Image TOD_2mm_singleODF_i_prob.nii.gz\n",
      "INFO:mittens.spatial:Loading NIfTI Image TOD_2mm_singleODF_i_prob.nii.gz\n",
      "INFO:mittens._mittens:Loading NIfTI Image TOD_2mm_singleODF_l_prob.nii.gz\n",
      "INFO:mittens.spatial:Loading NIfTI Image TOD_2mm_singleODF_l_prob.nii.gz\n",
      "INFO:mittens._mittens:Loading NIfTI Image TOD_2mm_singleODF_la_prob.nii.gz\n",
      "INFO:mittens.spatial:Loading NIfTI Image TOD_2mm_singleODF_la_prob.nii.gz\n",
      "INFO:mittens._mittens:Loading NIfTI Image TOD_2mm_singleODF_lai_prob.nii.gz\n",
      "INFO:mittens.spatial:Loading NIfTI Image TOD_2mm_singleODF_lai_prob.nii.gz\n",
      "INFO:mittens._mittens:Loading NIfTI Image TOD_2mm_singleODF_las_prob.nii.gz\n",
      "INFO:mittens.spatial:Loading NIfTI Image TOD_2mm_singleODF_las_prob.nii.gz\n",
      "INFO:mittens._mittens:Loading NIfTI Image TOD_2mm_singleODF_li_prob.nii.gz\n",
      "INFO:mittens.spatial:Loading NIfTI Image TOD_2mm_singleODF_li_prob.nii.gz\n",
      "INFO:mittens._mittens:Loading NIfTI Image TOD_2mm_singleODF_lp_prob.nii.gz\n",
      "INFO:mittens.spatial:Loading NIfTI Image TOD_2mm_singleODF_lp_prob.nii.gz\n",
      "INFO:mittens._mittens:Loading NIfTI Image TOD_2mm_singleODF_lpi_prob.nii.gz\n",
      "INFO:mittens.spatial:Loading NIfTI Image TOD_2mm_singleODF_lpi_prob.nii.gz\n",
      "INFO:mittens._mittens:Loading NIfTI Image TOD_2mm_singleODF_lps_prob.nii.gz\n",
      "INFO:mittens.spatial:Loading NIfTI Image TOD_2mm_singleODF_lps_prob.nii.gz\n",
      "INFO:mittens._mittens:Loading NIfTI Image TOD_2mm_singleODF_ls_prob.nii.gz\n",
      "INFO:mittens.spatial:Loading NIfTI Image TOD_2mm_singleODF_ls_prob.nii.gz\n",
      "INFO:mittens._mittens:Loading NIfTI Image TOD_2mm_singleODF_p_prob.nii.gz\n",
      "INFO:mittens.spatial:Loading NIfTI Image TOD_2mm_singleODF_p_prob.nii.gz\n",
      "INFO:mittens._mittens:Loading NIfTI Image TOD_2mm_singleODF_pi_prob.nii.gz\n",
      "INFO:mittens.spatial:Loading NIfTI Image TOD_2mm_singleODF_pi_prob.nii.gz\n",
      "INFO:mittens._mittens:Loading NIfTI Image TOD_2mm_singleODF_ps_prob.nii.gz\n",
      "INFO:mittens.spatial:Loading NIfTI Image TOD_2mm_singleODF_ps_prob.nii.gz\n",
      "INFO:mittens._mittens:Loading NIfTI Image TOD_2mm_singleODF_r_prob.nii.gz\n",
      "INFO:mittens.spatial:Loading NIfTI Image TOD_2mm_singleODF_r_prob.nii.gz\n",
      "INFO:mittens._mittens:Loading NIfTI Image TOD_2mm_singleODF_ra_prob.nii.gz\n",
      "INFO:mittens.spatial:Loading NIfTI Image TOD_2mm_singleODF_ra_prob.nii.gz\n",
      "INFO:mittens._mittens:Loading NIfTI Image TOD_2mm_singleODF_rai_prob.nii.gz\n",
      "INFO:mittens.spatial:Loading NIfTI Image TOD_2mm_singleODF_rai_prob.nii.gz\n",
      "INFO:mittens._mittens:Loading NIfTI Image TOD_2mm_singleODF_ras_prob.nii.gz\n",
      "INFO:mittens.spatial:Loading NIfTI Image TOD_2mm_singleODF_ras_prob.nii.gz\n",
      "INFO:mittens._mittens:Loading NIfTI Image TOD_2mm_singleODF_ri_prob.nii.gz\n",
      "INFO:mittens.spatial:Loading NIfTI Image TOD_2mm_singleODF_ri_prob.nii.gz\n",
      "INFO:mittens._mittens:Loading NIfTI Image TOD_2mm_singleODF_rp_prob.nii.gz\n",
      "INFO:mittens.spatial:Loading NIfTI Image TOD_2mm_singleODF_rp_prob.nii.gz\n",
      "INFO:mittens._mittens:Loading NIfTI Image TOD_2mm_singleODF_rpi_prob.nii.gz\n",
      "INFO:mittens.spatial:Loading NIfTI Image TOD_2mm_singleODF_rpi_prob.nii.gz\n",
      "INFO:mittens._mittens:Loading NIfTI Image TOD_2mm_singleODF_rps_prob.nii.gz\n",
      "INFO:mittens.spatial:Loading NIfTI Image TOD_2mm_singleODF_rps_prob.nii.gz\n",
      "INFO:mittens._mittens:Loading NIfTI Image TOD_2mm_singleODF_rs_prob.nii.gz\n",
      "INFO:mittens.spatial:Loading NIfTI Image TOD_2mm_singleODF_rs_prob.nii.gz\n",
      "INFO:mittens._mittens:Loading NIfTI Image TOD_2mm_singleODF_s_prob.nii.gz\n",
      "INFO:mittens.spatial:Loading NIfTI Image TOD_2mm_singleODF_s_prob.nii.gz\n",
      "INFO:mittens.spatial:Loading NIfTI Image TOD_2mm_singleODF_CoDI.nii.gz\n",
      "INFO:mittens._mittens:Reading doubleODF results\n",
      "INFO:mittens._mittens:Loading TOD_2mm_doubleODF_a_prob.nii.gz\n",
      "INFO:mittens.spatial:Loading NIfTI Image TOD_2mm_doubleODF_a_prob.nii.gz\n",
      "INFO:mittens._mittens:Loading TOD_2mm_doubleODF_ai_prob.nii.gz\n",
      "INFO:mittens.spatial:Loading NIfTI Image TOD_2mm_doubleODF_ai_prob.nii.gz\n",
      "INFO:mittens._mittens:Loading TOD_2mm_doubleODF_as_prob.nii.gz\n",
      "INFO:mittens.spatial:Loading NIfTI Image TOD_2mm_doubleODF_as_prob.nii.gz\n",
      "INFO:mittens._mittens:Loading TOD_2mm_doubleODF_i_prob.nii.gz\n",
      "INFO:mittens.spatial:Loading NIfTI Image TOD_2mm_doubleODF_i_prob.nii.gz\n",
      "INFO:mittens._mittens:Loading TOD_2mm_doubleODF_l_prob.nii.gz\n",
      "INFO:mittens.spatial:Loading NIfTI Image TOD_2mm_doubleODF_l_prob.nii.gz\n",
      "INFO:mittens._mittens:Loading TOD_2mm_doubleODF_la_prob.nii.gz\n",
      "INFO:mittens.spatial:Loading NIfTI Image TOD_2mm_doubleODF_la_prob.nii.gz\n",
      "INFO:mittens._mittens:Loading TOD_2mm_doubleODF_lai_prob.nii.gz\n",
      "INFO:mittens.spatial:Loading NIfTI Image TOD_2mm_doubleODF_lai_prob.nii.gz\n",
      "INFO:mittens._mittens:Loading TOD_2mm_doubleODF_las_prob.nii.gz\n",
      "INFO:mittens.spatial:Loading NIfTI Image TOD_2mm_doubleODF_las_prob.nii.gz\n",
      "INFO:mittens._mittens:Loading TOD_2mm_doubleODF_li_prob.nii.gz\n",
      "INFO:mittens.spatial:Loading NIfTI Image TOD_2mm_doubleODF_li_prob.nii.gz\n",
      "INFO:mittens._mittens:Loading TOD_2mm_doubleODF_lp_prob.nii.gz\n",
      "INFO:mittens.spatial:Loading NIfTI Image TOD_2mm_doubleODF_lp_prob.nii.gz\n",
      "INFO:mittens._mittens:Loading TOD_2mm_doubleODF_lpi_prob.nii.gz\n",
      "INFO:mittens.spatial:Loading NIfTI Image TOD_2mm_doubleODF_lpi_prob.nii.gz\n",
      "INFO:mittens._mittens:Loading TOD_2mm_doubleODF_lps_prob.nii.gz\n",
      "INFO:mittens.spatial:Loading NIfTI Image TOD_2mm_doubleODF_lps_prob.nii.gz\n",
      "INFO:mittens._mittens:Loading TOD_2mm_doubleODF_ls_prob.nii.gz\n",
      "INFO:mittens.spatial:Loading NIfTI Image TOD_2mm_doubleODF_ls_prob.nii.gz\n",
      "INFO:mittens._mittens:Loading TOD_2mm_doubleODF_p_prob.nii.gz\n",
      "INFO:mittens.spatial:Loading NIfTI Image TOD_2mm_doubleODF_p_prob.nii.gz\n",
      "INFO:mittens._mittens:Loading TOD_2mm_doubleODF_pi_prob.nii.gz\n",
      "INFO:mittens.spatial:Loading NIfTI Image TOD_2mm_doubleODF_pi_prob.nii.gz\n",
      "INFO:mittens._mittens:Loading TOD_2mm_doubleODF_ps_prob.nii.gz\n",
      "INFO:mittens.spatial:Loading NIfTI Image TOD_2mm_doubleODF_ps_prob.nii.gz\n",
      "INFO:mittens._mittens:Loading TOD_2mm_doubleODF_r_prob.nii.gz\n",
      "INFO:mittens.spatial:Loading NIfTI Image TOD_2mm_doubleODF_r_prob.nii.gz\n",
      "INFO:mittens._mittens:Loading TOD_2mm_doubleODF_ra_prob.nii.gz\n",
      "INFO:mittens.spatial:Loading NIfTI Image TOD_2mm_doubleODF_ra_prob.nii.gz\n",
      "INFO:mittens._mittens:Loading TOD_2mm_doubleODF_rai_prob.nii.gz\n",
      "INFO:mittens.spatial:Loading NIfTI Image TOD_2mm_doubleODF_rai_prob.nii.gz\n",
      "INFO:mittens._mittens:Loading TOD_2mm_doubleODF_ras_prob.nii.gz\n",
      "INFO:mittens.spatial:Loading NIfTI Image TOD_2mm_doubleODF_ras_prob.nii.gz\n",
      "INFO:mittens._mittens:Loading TOD_2mm_doubleODF_ri_prob.nii.gz\n",
      "INFO:mittens.spatial:Loading NIfTI Image TOD_2mm_doubleODF_ri_prob.nii.gz\n",
      "INFO:mittens._mittens:Loading TOD_2mm_doubleODF_rp_prob.nii.gz\n",
      "INFO:mittens.spatial:Loading NIfTI Image TOD_2mm_doubleODF_rp_prob.nii.gz\n",
      "INFO:mittens._mittens:Loading TOD_2mm_doubleODF_rpi_prob.nii.gz\n",
      "INFO:mittens.spatial:Loading NIfTI Image TOD_2mm_doubleODF_rpi_prob.nii.gz\n",
      "INFO:mittens._mittens:Loading TOD_2mm_doubleODF_rps_prob.nii.gz\n",
      "INFO:mittens.spatial:Loading NIfTI Image TOD_2mm_doubleODF_rps_prob.nii.gz\n",
      "INFO:mittens._mittens:Loading TOD_2mm_doubleODF_rs_prob.nii.gz\n",
      "INFO:mittens.spatial:Loading NIfTI Image TOD_2mm_doubleODF_rs_prob.nii.gz\n",
      "INFO:mittens._mittens:Loading TOD_2mm_doubleODF_s_prob.nii.gz\n",
      "INFO:mittens.spatial:Loading NIfTI Image TOD_2mm_doubleODF_s_prob.nii.gz\n",
      "INFO:mittens.spatial:Loading NIfTI Image TOD_2mm_doubleODF_CoDI.nii.gz\n",
      "INFO:mittens.spatial:Loading NIfTI Image TOD_2mm_doubleODF_CoAsy.nii.gz\n",
      "INFO:mittens._mittens:Assuming ODF vertices are LPS+\n",
      "INFO:mittens._mittens:Assuming ODF vertices are LPS+\n"
     ]
    },
    {
     "name": "stdout",
     "output_type": "stream",
     "text": [
      "singleODF outputs are identical: True\n",
      "doubleODF outputs are identical: True\n"
     ]
    }
   ],
   "source": [
    "nifti_mitn = MITTENS(nifti_prefix=\"TOD_2mm\")\n",
    "\n",
    "import numpy as np\n",
    "print(\"singleODF outputs are identical:\", \n",
    "          np.allclose(mitn.singleODF_results,nifti_mitn.singleODF_results))\n",
    "print(\"doubleODF outputs are identical:\", \n",
    "          np.allclose(mitn.doubleODF_results,nifti_mitn.doubleODF_results,equal_nan=True))"
   ]
  },
  {
   "cell_type": "markdown",
   "metadata": {},
   "source": [
    "You'll notice loading from NIfTI is much faster!\n",
    "\n",
    "## Building and saving a voxel graph\n",
    "\n",
    "Transition probabilities need to be converted to edge weights somehow. The ``MITTENS`` object accomplishes this through the ``build_graph`` function, which offers a number of options. Here is the relevant portion of the ``build_graph`` documentation\n",
    "\n",
    "    Schemes for shortest paths:\n",
    "    ---------------------------\n",
    "\n",
    "    ``\"negative_log_p\"``:\n",
    "      Transition probabilities are log transformed and made negative.  This is similar to the Zalesky 2009 strategy.\n",
    "\n",
    "    ``\"minus_iso_negative_log\"``:\n",
    "      Isotropic probabilities are subtracted from transition probabilities. Edges are not added when transition probabilities are less than the isotropic probability.\n",
    "\n",
    "    ``\"minus_iso_scaled_negative_log\"``:\n",
    "      Same as ``\"minus_iso_negative_log\"`` except probabilities are re-scaled to sum to 1 *before* the log transform is applied. \n",
    "      \n",
    "      \n",
    "You also have to pick whether to use singleODF or doubleODF probabilities. You can easily create graphs using either."
   ]
  },
  {
   "cell_type": "code",
   "execution_count": 4,
   "metadata": {},
   "outputs": [
    {
     "name": "stderr",
     "output_type": "stream",
     "text": [
      "100%|██████████| 69248/69248 [00:05<00:00, 11715.18it/s]\n",
      "INFO:mittens.voxel_graph:Converting networkit Graph to csr matrix\n",
      "INFO:mittens.voxel_graph:Saved matfile to TOD_2mm_doubleODF_nlp.mat\n"
     ]
    }
   ],
   "source": [
    "doubleODF_nlp = nifti_mitn.build_graph(doubleODF=True, weighting_scheme=\"negative_log_p\")\n",
    "doubleODF_nlp.save(\"TOD_2mm_doubleODF_nlp.mat\")"
   ]
  },
  {
   "cell_type": "markdown",
   "metadata": {},
   "source": [
    "### Notes\n",
    "\n",
    "#### Masking\n",
    "If no spatial mask is specified when the ``MITTENS`` object is constructed, the generous brain mask estimated by DSI Studio will be used.  This means the file sizes will be somewhat larger and the calculations will take longer. However, we recommend using the larger mask, as you can easily apply masks to the voxel graphs.  It's better to have a voxel and not need it than to re-run transition probability calculation.\n",
    "\n",
    "#### Affines\n",
    "``MITTENS`` mimics DSI Studio. Internally everything is done in LPS+ orientation and results are written out in RAS+ orientation. The affine used in the transition probability NIfTI images is the same as the images written by DSI Studio. This is a bizarre area of scanner coordinates and more closely matches the coordinates used by streamlines.\n",
    "\n",
    "### Verifying that the Voxel Graph is preserved\n",
    "\n",
    "Here we load a Voxel Graph directly from a matfile and check that it exactly matches the graph produced above."
   ]
  },
  {
   "cell_type": "code",
   "execution_count": 5,
   "metadata": {},
   "outputs": [
    {
     "name": "stderr",
     "output_type": "stream",
     "text": [
      "INFO:mittens.voxel_graph:Loading voxel graph from matfile\n",
      "INFO:mittens.voxel_graph:Loading graph from matfile\n"
     ]
    },
    {
     "name": "stdout",
     "output_type": "stream",
     "text": [
      "row indices match: True\n",
      "column indices match: True\n",
      "Weights all match: True\n"
     ]
    }
   ],
   "source": [
    "from mittens import VoxelGraph\n",
    "mat_vox_graph = VoxelGraph(\"TOD_2mm_doubleODF_nlp.mat\")\n",
    "\n",
    "\n",
    "from networkit.algebraic import adjacencyMatrix\n",
    "matfile_adj = adjacencyMatrix(mat_vox_graph.graph,matrixType=\"sparse\")\n",
    "mitn_adj = adjacencyMatrix(doubleODF_nlp.graph,matrixType=\"sparse\")\n",
    "\n",
    "\n",
    "mat_indices = np.nonzero(matfile_adj)\n",
    "indices = np.nonzero(mitn_adj)\n",
    "\n",
    "print(\"row indices match:\", np.all(mat_indices[0] == indices[0]))\n",
    "print(\"column indices match:\",np.all(mat_indices[1] == indices[1]))\n",
    "\n",
    "print(\"Weights all match:\", np.allclose(matfile_adj[indices],mitn_adj[indices]))"
   ]
  },
  {
   "cell_type": "markdown",
   "metadata": {},
   "source": [
    "### Conclusions\n",
    "\n",
    "Here we've shown that transition probabilities and edge weights are preserved over the three ways they can be represented in ``MITTENS``. Next we show useful operations that can be performed using a VoxelGraph.\n",
    "\n",
    "## Connectomics \n",
    "\n",
    "Add an atlas to the graph:"
   ]
  },
  {
   "cell_type": "code",
   "execution_count": 6,
   "metadata": {},
   "outputs": [
    {
     "name": "stderr",
     "output_type": "stream",
     "text": [
      "INFO:mittens.spatial:Loading NIfTI Image ../testing/endpoint_atlas_min_500.nii.gz\n",
      "INFO:mittens.voxel_graph:Computed shortest paths in 0.11420 sec\n",
      "INFO:mittens.voxel_graph:Computed shortest paths in 0.10470 sec\n",
      "INFO:mittens.voxel_graph:Computed shortest paths in 0.10828 sec\n",
      "INFO:mittens.voxel_graph:Computed shortest paths in 0.10880 sec\n",
      "INFO:mittens.voxel_graph:Computed shortest paths in 0.10803 sec\n",
      "INFO:mittens.voxel_graph:Computed shortest paths in 0.10755 sec\n",
      "INFO:mittens.voxel_graph:Computed shortest paths in 0.10859 sec\n",
      "INFO:mittens.voxel_graph:Computed shortest paths in 0.10486 sec\n",
      "INFO:mittens.voxel_graph:Computed shortest paths in 0.10529 sec\n",
      "INFO:mittens.voxel_graph:Computed shortest paths in 0.10748 sec\n",
      "INFO:mittens.voxel_graph:Computed shortest paths in 0.11100 sec\n",
      "INFO:mittens.voxel_graph:Computed shortest paths in 0.10534 sec\n",
      "INFO:mittens.voxel_graph:Computed shortest paths in 0.10715 sec\n",
      "INFO:mittens.voxel_graph:Computed shortest paths in 0.10706 sec\n",
      "INFO:mittens.voxel_graph:Computed shortest paths in 0.12950 sec\n",
      "INFO:mittens.voxel_graph:Computed shortest paths in 0.10354 sec\n",
      "INFO:mittens.voxel_graph:Computed shortest paths in 0.10571 sec\n",
      "INFO:mittens.voxel_graph:Computed shortest paths in 0.11023 sec\n",
      "INFO:mittens.voxel_graph:Computed shortest paths in 0.11104 sec\n",
      "INFO:mittens.voxel_graph:Computed shortest paths in 0.10701 sec\n",
      "INFO:mittens.voxel_graph:Computed shortest paths in 0.10912 sec\n",
      "INFO:mittens.voxel_graph:Computed shortest paths in 0.10756 sec\n",
      "INFO:mittens.voxel_graph:Computed shortest paths in 0.10649 sec\n",
      "INFO:mittens.voxel_graph:Computed shortest paths in 0.11004 sec\n",
      "INFO:mittens.voxel_graph:Computed shortest paths in 0.10545 sec\n",
      "INFO:mittens.voxel_graph:Computed shortest paths in 0.11473 sec\n",
      "INFO:mittens.voxel_graph:Computed shortest paths in 0.10387 sec\n",
      "INFO:mittens.voxel_graph:Computed shortest paths in 0.11465 sec\n",
      "INFO:mittens.voxel_graph:Computed shortest paths in 0.10730 sec\n",
      "INFO:mittens.voxel_graph:Computed shortest paths in 0.10587 sec\n",
      "INFO:mittens.voxel_graph:Computed shortest paths in 0.11189 sec\n",
      "INFO:mittens.voxel_graph:Computed shortest paths in 0.11076 sec\n",
      "INFO:mittens.voxel_graph:Computed shortest paths in 0.11077 sec\n",
      "INFO:mittens.voxel_graph:Computed shortest paths in 0.10981 sec\n",
      "INFO:mittens.voxel_graph:Computed shortest paths in 0.10751 sec\n",
      "INFO:mittens.voxel_graph:Computed shortest paths in 0.11170 sec\n",
      "INFO:mittens.voxel_graph:Computed shortest paths in 0.10189 sec\n",
      "INFO:mittens.voxel_graph:Computed shortest paths in 0.13730 sec\n",
      "38it [00:00, 108.66it/s]\n"
     ]
    }
   ],
   "source": [
    "mat_vox_graph.add_atlas(\"../testing/endpoint_atlas_min_500.nii.gz\")\n",
    "asym_raw_prob_graph, asym_mean_prob_graph, asym_path_length_graph, \\\n",
    "conj_raw_prob_graph, conj_mean_prob_graph = mat_vox_graph.build_atlas_graph()\n"
   ]
  },
  {
   "cell_type": "code",
   "execution_count": 7,
   "metadata": {},
   "outputs": [
    {
     "name": "stdout",
     "output_type": "stream",
     "text": [
      "Populating the interactive namespace from numpy and matplotlib\n"
     ]
    },
    {
     "name": "stderr",
     "output_type": "stream",
     "text": [
      "/Users/mcieslak/miniconda3/envs/qsiprep/lib/python3.7/site-packages/IPython/core/magics/pylab.py:160: UserWarning: pylab import has clobbered these variables: ['f', 'indices']\n",
      "`%matplotlib` prevents importing * from pylab and numpy\n",
      "  \"\\n`%matplotlib` prevents importing * from pylab and numpy\"\n"
     ]
    },
    {
     "data": {
      "text/plain": [
       "<matplotlib.colorbar.Colorbar at 0x10be243c8>"
      ]
     },
     "execution_count": 7,
     "metadata": {},
     "output_type": "execute_result"
    },
    {
     "data": {
      "image/png": "[encoded data removed]",
      "text/plain": [
       "<Figure size 288x288 with 2 Axes>"
      ]
     },
     "metadata": {
      "needs_background": "light"
     },
     "output_type": "display_data"
    }
   ],
   "source": [
    "%pylab inline\n",
    "matshow(adjacencyMatrix(conj_mean_prob_graph).toarray())\n",
    "colorbar()"
   ]
  },
  {
   "cell_type": "markdown",
   "metadata": {},
   "source": [
    "## Testing shortest-path mapping from a source region\n",
    "\n"
   ]
  },
  {
   "cell_type": "code",
   "execution_count": 8,
   "metadata": {},
   "outputs": [
    {
     "name": "stderr",
     "output_type": "stream",
     "text": [
      "INFO:mittens.spatial:Loading NIfTI Image cst_seed.nii.gz\n",
      "INFO:mittens.spatial:Loading NIfTI Image cst_seed.nii.gz\n",
      "INFO:mittens.voxel_graph:Computed shortest paths in 0.11079 sec\n"
     ]
    }
   ],
   "source": [
    "raw_scores, scores, path_lengths, backprop = mat_vox_graph.shortest_path_map(\"cst_seed.nii.gz\")\n",
    "mat_vox_graph.save_nifti(raw_scores, \"raw_scores.nii.gz\")\n",
    "mat_vox_graph.save_nifti(backprop, \"backprop.nii.gz\")"
   ]
  },
  {
   "cell_type": "markdown",
   "metadata": {},
   "source": [
    "Visualizing one of the backprop maps,"
   ]
  },
  {
   "cell_type": "code",
   "execution_count": 9,
   "metadata": {},
   "outputs": [
    {
     "data": {
      "text/plain": [
       "<matplotlib.colorbar.Colorbar at 0x1a28967470>"
      ]
     },
     "execution_count": 9,
     "metadata": {},
     "output_type": "execute_result"
    },
    {
     "data": {
      "image/png": "[encoded data removed]",
      "text/plain": [
       "<Figure size 432x288 with 2 Axes>"
      ]
     },
     "metadata": {
      "needs_background": "light"
     },
     "output_type": "display_data"
    }
   ],
   "source": [
    "import nibabel as nb\n",
    "bp_data = nb.load(\"backprop.nii.gz\").get_fdata()\n",
    "imshow(bp_data[:,40,::-1].T, vmin=.16, vmax=0.27)\n",
    "colorbar()"
   ]
  }
 ],
 "metadata": {
  "kernelspec": {
   "display_name": "Python 3",
   "language": "python",
   "name": "python3"
  },
  "language_info": {
   "codemirror_mode": {
    "name": "ipython",
    "version": 3
   },
   "file_extension": ".py",
   "mimetype": "text/x-python",
   "name": "python",
   "nbconvert_exporter": "python",
   "pygments_lexer": "ipython3",
   "version": "3.7.2"
  }
 },
 "nbformat": 4,
 "nbformat_minor": 2
}
